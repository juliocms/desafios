{
  "nbformat": 4,
  "nbformat_minor": 0,
  "metadata": {
    "colab": {
      "provenance": [],
      "toc_visible": true
    },
    "kernelspec": {
      "name": "python3",
      "display_name": "Python 3"
    },
    "language_info": {
      "name": "python"
    }
  },
  "cells": [
    {
      "cell_type": "code",
      "execution_count": 38,
      "metadata": {
        "id": "2BIzPyDvGsoZ",
        "colab": {
          "base_uri": "https://localhost:8080/"
        },
        "outputId": "0bd9b0f7-b80c-4439-be5d-6ca92a36f7d1"
      },
      "outputs": [
        {
          "output_type": "stream",
          "name": "stdout",
          "text": [
            "\r0% [Working]\r            \rHit:1 https://developer.download.nvidia.com/compute/cuda/repos/ubuntu2004/x86_64  InRelease\n",
            "\r0% [Connecting to archive.ubuntu.com (185.125.190.39)] [Waiting for headers] [W\r                                                                               \rHit:2 https://cloud.r-project.org/bin/linux/ubuntu focal-cran40/ InRelease\n",
            "\r0% [Connecting to archive.ubuntu.com (185.125.190.39)] [Waiting for headers] [C\r                                                                               \rGet:3 http://security.ubuntu.com/ubuntu focal-security InRelease [114 kB]\n",
            "Hit:4 http://archive.ubuntu.com/ubuntu focal InRelease\n",
            "Hit:5 http://ppa.launchpad.net/c2d4u.team/c2d4u4.0+/ubuntu focal InRelease\n",
            "Hit:6 http://archive.ubuntu.com/ubuntu focal-updates InRelease\n",
            "Get:7 http://archive.ubuntu.com/ubuntu focal-backports InRelease [108 kB]\n",
            "Hit:8 http://ppa.launchpad.net/cran/libgit2/ubuntu focal InRelease\n",
            "Hit:9 http://ppa.launchpad.net/deadsnakes/ppa/ubuntu focal InRelease\n",
            "Hit:10 http://ppa.launchpad.net/graphics-drivers/ppa/ubuntu focal InRelease\n",
            "Hit:11 http://ppa.launchpad.net/ubuntugis/ppa/ubuntu focal InRelease\n",
            "Fetched 222 kB in 2s (138 kB/s)\n",
            "Reading package lists... Done\n"
          ]
        }
      ],
      "source": [
        "!apt-get update\n",
        "!apt-get install openjdk-8-jdk-headless -qq > /dev/null\n",
        "!wget -q http://archive.apache.org/dist/spark/spark-3.2.1/spark-3.2.1-bin-hadoop2.7.tgz\n",
        "!tar xf spark-3.2.1-bin-hadoop2.7.tgz\n",
        "!pip install -q findspark\n",
        "\n",
        "import os\n",
        "os.environ[\"JAVA_HOME\"] = \"/usr/lib/jvm/java-8-openjdk-amd64\"\n",
        "os.environ[\"SPARK_HOME\"] = \"/content/spark-3.2.1-bin-hadoop2.7\"\n",
        "\n",
        "import findspark\n",
        "findspark.init()\n",
        "\n",
        "import pyspark\n",
        "from pyspark.sql import SparkSession\n",
        "from pyspark.sql.functions import col, round\n",
        "from decimal import Decimal, ROUND_HALF_UP\n",
        "\n",
        "spark = SparkSession.builder.appName(\"AcquirerLTDA\").getOrCreate()"
      ]
    },
    {
      "cell_type": "code",
      "source": [
        "# Transactions and Contracts data\n",
        "transactions = [\n",
        "      {\"transaction_id\": 1, \"client_id\": 3545, \"total_amount\": 3000, \"discount_percentage\": 6.99},\n",
        "      {\"transaction_id\": 2, \"client_id\": 3545, \"total_amount\": 4500, \"discount_percentage\": 0.45},\n",
        "      {\"transaction_id\": 3, \"client_id\": 3509, \"total_amount\": 69998, \"discount_percentage\": 0},\n",
        "      {\"transaction_id\": 4, \"client_id\": 3510, \"total_amount\": 1, \"discount_percentage\": None},\n",
        "      {\"transaction_id\": 5, \"client_id\": 4510, \"total_amount\": 34, \"discount_percentage\": 40},\n",
        "  ]\n",
        "\n",
        "contracts = [\n",
        "      {\"contract_id\": 3, \"client_id\": 3545, \"client_name\": \"Magazine Luana\", \"percentage\": 2.00, \"is_active\": True},\n",
        "      {\"contract_id\": 4, \"client_id\": 3545, \"client_name\": \"Magazine Luana\", \"percentage\": 1.95, \"is_active\": False},\n",
        "      {\"contract_id\": 5, \"client_id\": 3509, \"client_name\": \"Lojas Italianas\", \"percentage\": 1, \"is_active\": True},\n",
        "      {\"contract_id\": 6, \"client_id\": 3510, \"client_name\": \"Carrerfive\", \"percentage\": 3.00, \"is_active\": True},\n",
        "  ]\n",
        "\n",
        "# Ajustar None dos campos discount_percentage e percentage\n",
        "for transaction in transactions:\n",
        "    transaction[\"discount_percentage\"] = Decimal(transaction[\"discount_percentage\"]) if transaction[\"discount_percentage\"] is not None else Decimal(0)\n",
        "\n",
        "for contract in contracts:\n",
        "    contract[\"percentage\"] = Decimal(contract[\"percentage\"]) if contract[\"percentage\"] is not None else Decimal(0)\n",
        "\n",
        "# Converter os dados em DataFrames do Spark\n",
        "transactions_df = spark.createDataFrame(transactions)\n",
        "contracts_df = spark.createDataFrame(contracts)\n"
      ],
      "metadata": {
        "id": "DXxfPQDtIWoN"
      },
      "execution_count": 39,
      "outputs": []
    },
    {
      "cell_type": "code",
      "source": [
        "# Calculo do ganho total\n",
        "profit = (col(\"total_amount\") - (col(\"total_amount\") * (col(\"discount_percentage\") / 100))) * (col(\"percentage\") / 100)\n",
        "profit_sum = transactions_df.join(contracts_df, transactions_df.client_id == contracts_df.client_id, \"inner\") \\\n",
        "    .filter(col(\"is_active\") == True) \\\n",
        "    .select(profit.alias(\"profit\")) \\\n",
        "    .groupBy().sum() \\\n",
        "    .collect()[0][0]\n",
        "\n",
        "# Arredondar o resultado com precisão decimal após coletar o resultado\n",
        "rounded_profit = Decimal(str(profit_sum)).quantize(Decimal(\"0.000\"), rounding=ROUND_HALF_UP)"
      ],
      "metadata": {
        "id": "fzhA1yPQEmar"
      },
      "execution_count": 40,
      "outputs": []
    },
    {
      "cell_type": "code",
      "source": [
        "print(f\"O ganho total da empresa Acquirer LTDA é: {rounded_profit}\")\n",
        "\n",
        "# Encerrar a sessão do Spark\n",
        "spark.stop()"
      ],
      "metadata": {
        "id": "QiLrNUOpmbpV",
        "colab": {
          "base_uri": "https://localhost:8080/"
        },
        "outputId": "e77ac1b7-f8ad-4443-845e-36938476e288"
      },
      "execution_count": 42,
      "outputs": [
        {
          "output_type": "stream",
          "name": "stdout",
          "text": [
            "O ganho total da empresa Acquirer LTDA é: 845.411\n"
          ]
        }
      ]
    }
  ]
}